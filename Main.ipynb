{
 "cells": [
  {
   "cell_type": "code",
   "execution_count": 1,
   "metadata": {},
   "outputs": [],
   "source": [
    "import numpy as np\n",
    "import pandas as pd\n",
    "\n",
    "from sklearn.cluster import DBSCAN\n",
    "from sklearn import metrics\n",
    "from sklearn.datasets.samples_generator import make_blobs\n",
    "from sklearn.preprocessing import StandardScaler\n",
    "from sklearn.naive_bayes import GaussianNB\n",
    "\n",
    "import matplotlib.pyplot as plt\n",
    "\n",
    "import plotly\n",
    "import plotly.graph_objs as go"
   ]
  },
  {
   "cell_type": "markdown",
   "metadata": {},
   "source": [
    "1) Обучение модели"
   ]
  },
  {
   "cell_type": "code",
   "execution_count": 2,
   "metadata": {},
   "outputs": [
    {
     "name": "stdout",
     "output_type": "stream",
     "text": [
      "[[ 7.034995 79.224858 93.870559 ...  0.539957 -0.597287  0.593038]\n",
      " [ 7.098444 79.780007 93.875917 ...  0.456963  0.289398  0.84109 ]\n",
      " [ 7.134974 79.691908 93.877415 ...  0.472569  0.285533  0.833756]\n",
      " ...\n",
      " [ 4.823397 80.592753 93.661361 ... -0.358866  0.75337   0.551043]\n",
      " [ 6.585719 78.939561 93.635603 ... -0.459409  0.824674  0.329935]\n",
      " [ 3.15475  79.762764 93.800264 ... -0.842444  0.428417  0.326722]]\n"
     ]
    }
   ],
   "source": [
    "#Cars\n",
    "file1 = np.loadtxt('dataset/car/car1.txt')\n",
    "file2 = np.loadtxt('dataset/car/car2.txt')\n",
    "file3 = np.loadtxt('dataset/car/car3.txt')\n",
    "file4 = np.loadtxt('dataset/car/car4.txt')\n",
    "file5 = np.loadtxt('dataset/car/car5.txt')\n",
    "file6 = np.loadtxt('dataset/car/car6.txt')\n",
    "\n",
    "#Trees\n",
    "file7 = np.loadtxt('dataset/tree/tree1.txt')\n",
    "file8 = np.loadtxt('dataset/tree/tree2.txt')\n",
    "file9 = np.loadtxt('dataset/tree/tree3.txt')\n",
    "file10 = np.loadtxt('dataset/tree/tree4.txt')\n",
    "\n",
    "models = np.array([0, 0, 0, 0, 0, 0, 1, 1, 1, 1])\n",
    "models_string = {\n",
    "    0: 'Car',\n",
    "    1: 'Tree'\n",
    "}\n",
    "print(file1)"
   ]
  },
  {
   "cell_type": "code",
   "execution_count": 3,
   "metadata": {},
   "outputs": [],
   "source": [
    "#По координатам расчитывает параметры для каждого объекта\n",
    "def parametrs(file_array):\n",
    "    file = file_array[:,:6]\n",
    "    n = len(file)\n",
    "    \n",
    "    dispersion_z = sum((file[:,2] - min(file[:,2])) ** 2)/n\n",
    "    v = (max(file[:,0]) - min(file[:,0]))*(max(file[:,1]) - min(file[:,1]))*(max(file[:,2]) - min(file[:,2]))\n",
    "    delta_x = max(file[:,0]) - min(file[:,0])\n",
    "    delta_y = max(file[:,1]) - min(file[:,1])\n",
    "    delta_z = max(file[:,2]) - min(file[:,2])\n",
    "    array = np.array([[dispersion_z, v, delta_x, delta_y, delta_z]])\n",
    "    return array"
   ]
  },
  {
   "cell_type": "code",
   "execution_count": 4,
   "metadata": {},
   "outputs": [
    {
     "name": "stdout",
     "output_type": "stream",
     "text": [
      "[[ 0.65625656 15.37526268  4.619171    2.741471    1.214157  ]]\n",
      "[[ 135.97722397 2892.90394088   13.411913     12.35253      17.461734  ]]\n"
     ]
    }
   ],
   "source": [
    "#Показывает на примере, для чего нужнен алгоритм веявления параметров\n",
    "print(parametrs(np.loadtxt('dataset/car/car1.txt')))\n",
    "print(parametrs(np.loadtxt('dataset/tree/tree1.txt')))"
   ]
  },
  {
   "cell_type": "code",
   "execution_count": 5,
   "metadata": {},
   "outputs": [],
   "source": [
    "#Обучение с учителем: алгоритм Наивный Байес\n",
    "\n",
    "#test_array = df.to_numpy()\n",
    "teaching = np.concatenate((parametrs(file1), parametrs(file2), parametrs(file3), parametrs(file4), parametrs(file5), parametrs(file6), parametrs(file7), parametrs(file8), parametrs(file9), parametrs(file10)), axis=0)\n",
    "\n",
    "def Gaus(teaching, models):\n",
    "    # X - [[признаки], [признаки], [], ...]\n",
    "    # y - [[вид1], [вид2], [вид3], ...]\n",
    "\n",
    "    model = GaussianNB()\n",
    "    model.fit(teaching, models)\n",
    "    \n",
    "    return model\n",
    "\n",
    "model = Gaus(teaching, models)"
   ]
  },
  {
   "cell_type": "code",
   "execution_count": 6,
   "metadata": {},
   "outputs": [],
   "source": [
    "#Функция проверки класификации объекта\n",
    "def check(model, test_array):\n",
    "    predicted = model.predict(test_array)\n",
    "    return predicted"
   ]
  },
  {
   "cell_type": "markdown",
   "metadata": {},
   "source": [
    "2) Кластеризация сцены"
   ]
  },
  {
   "cell_type": "code",
   "execution_count": 7,
   "metadata": {},
   "outputs": [
    {
     "name": "stdout",
     "output_type": "stream",
     "text": [
      "[0 0 0 ... 0 0 0]\n",
      "Estimated number of clusters: 1\n",
      "Estimated number of noise points: 181\n",
      "Homogeneity: 0.023\n",
      "Completeness: 1.000\n",
      "V-measure: 0.045\n",
      "Adjusted Rand Index: 0.000\n",
      "Adjusted Mutual Information: -0.000\n"
     ]
    }
   ],
   "source": [
    "PointsMin = 15 #минимальное количество точек в объекте\n",
    "\n",
    "centers_all = np.loadtxt('scene.txt')\n",
    "\n",
    "#Понижаем размерность до 2 координат (нужно для кластеризации)\n",
    "centers = centers_all[:,:2]\n",
    "#print('Переменная centers', centers_all)\n",
    "#print('Количество строк:', len(centers_all))\n",
    "#print()\n",
    "\n",
    "X, labels_true = make_blobs(n_samples=len(centers), centers=centers, cluster_std=0.4, random_state=0) #n_samples эта фича сегментирует точки\n",
    "X = StandardScaler().fit_transform(X)\n",
    "\n",
    "# #############################################################################\n",
    "# Compute DBSCAN\n",
    "db = DBSCAN(eps=0.2, min_samples=PointsMin).fit(X) #eps Максимальное расстояние между двумя образцами для одного должно \n",
    "#рассматриваться как соседство с другим. Это не максимальная граница расстояний между точками в кластере. \n",
    "#Это наиболее важный параметр DBSCAN, который необходимо выбрать в соответствии с вашим набором данных и функцией расстояния., \n",
    "#min_samples Количество выборок (или общий вес) в окрестности для точки, которая должна рассматриваться как основная точка. Это включает в себя саму точку.\n",
    "core_samples_mask = np.zeros_like(db.labels_, dtype=bool)\n",
    "core_samples_mask[db.core_sample_indices_] = True\n",
    "labels = db.labels_\n",
    "print(labels)\n",
    "\n",
    "# Number of clusters in labels, ignoring noise if present.\n",
    "n_clusters_ = len(set(labels)) - (1 if -1 in labels else 0) #считает количество кластеров\n",
    "n_noise_ = list(labels).count(-1) #считает количество точкех как шумами\n",
    "\n",
    "print('Estimated number of clusters: %d' % n_clusters_)\n",
    "print('Estimated number of noise points: %d' % n_noise_)\n",
    "print(\"Homogeneity: %0.3f\" % metrics.homogeneity_score(labels_true, labels))\n",
    "print(\"Completeness: %0.3f\" % metrics.completeness_score(labels_true, labels))\n",
    "print(\"V-measure: %0.3f\" % metrics.v_measure_score(labels_true, labels))\n",
    "print(\"Adjusted Rand Index: %0.3f\"\n",
    "      % metrics.adjusted_rand_score(labels_true, labels))\n",
    "print(\"Adjusted Mutual Information: %0.3f\"\n",
    "      % metrics.adjusted_mutual_info_score(labels_true, labels,\n",
    "                                           average_method='arithmetic'))\n"
   ]
  },
  {
   "cell_type": "code",
   "execution_count": 8,
   "metadata": {},
   "outputs": [
    {
     "data": {
      "text/plain": [
       "{0: 3696, -1: 181}"
      ]
     },
     "execution_count": 8,
     "metadata": {},
     "output_type": "execute_result"
    }
   ],
   "source": [
    "#Количество шума и точек в объектах\n",
    "KolVoClasters = {}\n",
    "for i in labels:\n",
    "    try:\n",
    "        KolVoClasters[i] += 1\n",
    "    except:\n",
    "        KolVoClasters[i] = 1\n",
    "KolVoClasters"
   ]
  },
  {
   "cell_type": "code",
   "execution_count": 9,
   "metadata": {},
   "outputs": [
    {
     "data": {
      "image/png": "[encoded data removed]",
      "text/plain": [
       "<Figure size 432x288 with 1 Axes>"
      ]
     },
     "metadata": {
      "needs_background": "light"
     },
     "output_type": "display_data"
    }
   ],
   "source": [
    "#Рисует сцену на 2D плоскости\n",
    "\n",
    "# Black removed and is used for noise instead.\n",
    "unique_labels = set(labels)\n",
    "colors = [plt.cm.Spectral(each)\n",
    "          for each in np.linspace(0, 1, len(unique_labels))]\n",
    "for k, col in zip(unique_labels, colors):\n",
    "    if k == -1:\n",
    "        # Black used for noise.\n",
    "        col = [0, 0, 0, 1]\n",
    "\n",
    "    class_member_mask = (labels == k)\n",
    "\n",
    "    xy = X[class_member_mask & core_samples_mask]\n",
    "    plt.plot(xy[:, 0], xy[:, 1], 'o', markerfacecolor=tuple(col),\n",
    "             markeredgecolor='k', markersize=14)\n",
    "\n",
    "    xy = X[class_member_mask & ~core_samples_mask]\n",
    "    plt.plot(xy[:, 0], xy[:, 1], 'o', markerfacecolor=tuple(col),\n",
    "             markeredgecolor='k', markersize=6)\n",
    "\n",
    "plt.title('Вид сверху')\n",
    "plt.show()"
   ]
  },
  {
   "cell_type": "code",
   "execution_count": 10,
   "metadata": {},
   "outputs": [],
   "source": [
    "# Красные - точки объекта, черные - шум\n",
    "# centers_all = [[x, y, z, r, b, g], ...]\n",
    "# labels = [-1, 0, 1, ...]"
   ]
  },
  {
   "cell_type": "code",
   "execution_count": 11,
   "metadata": {},
   "outputs": [],
   "source": [
    "#Разбиваем множество точек на объекты (опирааясь на вышепроводимую кластеризацию)\n",
    "claster_object = [[]]*(len(KolVoClasters)-1)\n",
    "for i in range(len(labels)):\n",
    "    value_labers = labels[i] # -1, 0 or 1\n",
    "    point = centers_all[i] # [x, y, z, r, g, b]\n",
    "    if value_labers != -1:\n",
    "        claster_object[value_labers].append(point)\n",
    "\n",
    "# claster_object[0] - numpy.array точек объекта 1\n",
    "# claster_object[1] - numpy.array точек объекта 2\n",
    "# claster_object[2] - numpy.array точек объекта 3"
   ]
  },
  {
   "cell_type": "code",
   "execution_count": 12,
   "metadata": {},
   "outputs": [],
   "source": [
    "#Функция рендеринга моделея объектов\n",
    "def rendering_models(x_coords, y_coords, z_coords, clasif_name, name):\n",
    "    fig1 = go.Scatter3d(x=x_coords,\n",
    "                        y=y_coords,\n",
    "                        z=z_coords,\n",
    "                        marker=dict(opacity=0.9,\n",
    "                                    reversescale=True,\n",
    "                                    colorscale='Blues',\n",
    "                                    size=5),\n",
    "                        line=dict (width=0.02),\n",
    "                        mode='markers')\n",
    "\n",
    "    #Make Plot.ly Layout\n",
    "    mylayout = go.Layout(scene=dict(xaxis=dict(title=\"X\"),\n",
    "                                    yaxis=dict(title=\"Y\"),\n",
    "                                    zaxis=dict(title=clasif_name)),)\n",
    "\n",
    "    #Plot and save html\n",
    "    plotly.offline.plot({\"data\": [fig1],\n",
    "                         \"layout\": mylayout},\n",
    "                         auto_open=True,\n",
    "                         filename=(f\"{name}Plot.html\"))"
   ]
  },
  {
   "cell_type": "code",
   "execution_count": 13,
   "metadata": {},
   "outputs": [
    {
     "name": "stdout",
     "output_type": "stream",
     "text": [
      "[0]\n",
      "\n",
      "Это: Car\n"
     ]
    }
   ],
   "source": [
    "#Классификация 1 объекта\n",
    "test_array = np.array(claster_object[0])\n",
    "i = check(model, parametrs(test_array))\n",
    "print(i)\n",
    "models_name = models_string[i[0]]\n",
    "print()\n",
    "print('Это:', models_name)"
   ]
  },
  {
   "cell_type": "code",
   "execution_count": 14,
   "metadata": {},
   "outputs": [],
   "source": [
    "#Построение 1 объекта\n",
    "rendering_models(test_array[:][:,0], test_array[:][:,1], test_array[:][:,2], models_name, str(i))"
   ]
  },
  {
   "cell_type": "code",
   "execution_count": null,
   "metadata": {},
   "outputs": [],
   "source": []
  },
  {
   "cell_type": "code",
   "execution_count": null,
   "metadata": {},
   "outputs": [],
   "source": []
  },
  {
   "cell_type": "code",
   "execution_count": null,
   "metadata": {},
   "outputs": [],
   "source": []
  },
  {
   "cell_type": "markdown",
   "metadata": {},
   "source": [
    "3) Еще не реализовано"
   ]
  },
  {
   "cell_type": "code",
   "execution_count": null,
   "metadata": {},
   "outputs": [],
   "source": [
    "#Классификация 2 объекта\n",
    "test_array = np.loadtxt('dataset/car/car8.txt')\n",
    "i = check(model, parametrs(test_array))\n",
    "models_name = models_string[i[0]]\n",
    "print('Это:', models_name)"
   ]
  },
  {
   "cell_type": "code",
   "execution_count": null,
   "metadata": {},
   "outputs": [],
   "source": [
    "#Построение 2 объекта\n",
    "rendering_models(np.array(claster_object[1])[:][:,0], np.array(claster_object[1])[:][:,1], np.array(claster_object[1])[:][:,2], models_name, str(i))"
   ]
  }
 ],
 "metadata": {
  "kernelspec": {
   "display_name": "Python 3",
   "language": "python",
   "name": "python3"
  },
  "language_info": {
   "codemirror_mode": {
    "name": "ipython",
    "version": 3
   },
   "file_extension": ".py",
   "mimetype": "text/x-python",
   "name": "python",
   "nbconvert_exporter": "python",
   "pygments_lexer": "ipython3",
   "version": "3.7.4"
  }
 },
 "nbformat": 4,
 "nbformat_minor": 4
}
